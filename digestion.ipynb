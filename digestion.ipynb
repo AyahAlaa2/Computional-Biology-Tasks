{
 "cells": [
  {
   "cell_type": "code",
   "execution_count": 3,
   "metadata": {},
   "outputs": [
    {
     "name": "stdout",
     "output_type": "stream",
     "text": [
      "DELNR\n"
     ]
    },
    {
     "data": {
      "text/plain": [
       "53"
      ]
     },
     "execution_count": 3,
     "metadata": {},
     "output_type": "execute_result"
    }
   ],
   "source": [
    "from pyopenms import *\n",
    "from urllib.request import urlretrieve\n",
    "ah = \"https://www.uniprot.org/uniprot/P43034.fasta\"\n",
    "urlretrieve (ah , \"human.fasta\")\n",
    "\n",
    "dig = ProteaseDigestion()\n",
    "dig.getEnzymeName() # Trypsin\n",
    "bsa = \"\".join([l.strip() for l in open(\"human.fasta\").readlines()[1:]])\n",
    "bsa = AASequence.fromString(bsa)\n",
    "# create all digestion products\n",
    "result = []\n",
    "dig.digest(bsa, result)\n",
    "print(result[2].toString())\n",
    "len(result) "
   ]
  },
  {
   "cell_type": "code",
   "execution_count": 4,
   "metadata": {},
   "outputs": [
    {
     "name": "stdout",
     "output_type": "stream",
     "text": [
      "AIADYLR\n",
      "SNGYEEAYSVFK\n",
      "EAELDVNEELDK\n",
      "YAGLLEK\n",
      "VMELESK\n",
      "EEFTSGGPLGQK\n",
      "EWIPRPPEK\n",
      "YALSGHR\n",
      "VIFHPVFSVMVSASEDATIK\n",
      "VWDYETGDFER\n",
      "GHTDSVQDISFDHSGK\n",
      "LLASCSADMTIK\n",
      "LWDFQGFECIR\n",
      "TMHGHDHNVSSVAIMPNGDHIVSASR\n",
      "MWEVQTGYCVK\n",
      "MVRPNQDGTLIASCSNDQTVR\n",
      "VWVVATK\n",
      "EHEHVVECISWAPESSYSSISEATGSETK\n",
      "SGKPGPFLLSGSR\n",
      "MWDVSTGMCLMTLVGHDNWVR\n",
      "GVLFHSGGK\n",
      "FILSCADDK\n",
      "TLNAHEHFVTSLDFHK\n",
      "TAPYVVTGSVDQTVK\n"
     ]
    }
   ],
   "source": [
    "dig.digest(bsa, result, 7, 40)\n",
    "for s in result:\n",
    "    print(s.toString())"
   ]
  },
  {
   "cell_type": "code",
   "execution_count": 9,
   "metadata": {},
   "outputs": [
    {
     "name": "stdout",
     "output_type": "stream",
     "text": [
      "AIADYLR\n",
      "SNGYEEAYSVFK\n",
      "EAELDVNEELDK\n",
      "YAGLLEK\n",
      "VMELESK\n",
      "EEFTSGGPLGQK\n",
      "EWIPRPPEK\n",
      "YALSGHR\n",
      "VIFHPVFSVMVSASEDATIK\n",
      "VWDYETGDFER\n",
      "GHTDSVQDISFDHSGK\n",
      "LLASCSADMTIK\n",
      "LWDFQGFECIR\n",
      "TMHGHDHNVSSVAIMPNGDHIVSASR\n",
      "MWEVQTGYCVK\n",
      "MVRPNQDGTLIASCSNDQTVR\n",
      "VWVVATK\n",
      "EHEHVVECISWAPESSYSSISEATGSETK\n",
      "SGKPGPFLLSGSR\n",
      "MWDVSTGMCLMTLVGHDNWVR\n",
      "GVLFHSGGK\n",
      "FILSCADDK\n",
      "TLNAHEHFVTSLDFHK\n",
      "TAPYVVTGSVDQTVK\n",
      "MVLSQRQR\n",
      "QRDELNR\n",
      "DELNRAIADYLR\n",
      "AIADYLRSNGYEEAYSVFK\n",
      "SNGYEEAYSVFKK\n",
      "KEAELDVNEELDK\n",
      "EAELDVNEELDKK\n",
      "KYAGLLEK\n",
      "YAGLLEKK\n",
      "KWTSVIR\n",
      "WTSVIRLQK\n",
      "KVMELESK\n",
      "VMELESKLNEAK\n",
      "LNEAKEEFTSGGPLGQK\n",
      "EEFTSGGPLGQKR\n",
      "DPKEWIPRPPEK\n",
      "EWIPRPPEKYALSGHR\n",
      "YALSGHRSPVTR\n",
      "SPVTRVIFHPVFSVMVSASEDATIK\n",
      "VIFHPVFSVMVSASEDATIKVWDYETGDFER\n",
      "VWDYETGDFERTLK\n",
      "TLKGHTDSVQDISFDHSGK\n",
      "GHTDSVQDISFDHSGKLLASCSADMTIK\n",
      "LLASCSADMTIKLWDFQGFECIR\n",
      "LWDFQGFECIRTMHGHDHNVSSVAIMPNGDHIVSASR\n",
      "TMHGHDHNVSSVAIMPNGDHIVSASRDK\n",
      "TIKMWEVQTGYCVK\n",
      "MWEVQTGYCVKTFTGHR\n",
      "TFTGHREWVR\n",
      "EWVRMVRPNQDGTLIASCSNDQTVR\n",
      "MVRPNQDGTLIASCSNDQTVRVWVVATK\n",
      "VWVVATKECK\n",
      "ECKAELR\n",
      "AELREHEHVVECISWAPESSYSSISEATGSETK\n",
      "EHEHVVECISWAPESSYSSISEATGSETKK\n",
      "KSGKPGPFLLSGSR\n",
      "SGKPGPFLLSGSRDK\n",
      "TIKMWDVSTGMCLMTLVGHDNWVR\n",
      "MWDVSTGMCLMTLVGHDNWVRGVLFHSGGK\n",
      "GVLFHSGGKFILSCADDK\n",
      "FILSCADDKTLR\n",
      "TLRVWDYK\n",
      "VWDYKNK\n",
      "CMKTLNAHEHFVTSLDFHK\n",
      "TLNAHEHFVTSLDFHKTAPYVVTGSVDQTVK\n",
      "TAPYVVTGSVDQTVKVWECR\n",
      "MVLSQRQRDELNR\n",
      "QRDELNRAIADYLR\n",
      "DELNRAIADYLRSNGYEEAYSVFK\n",
      "AIADYLRSNGYEEAYSVFKK\n",
      "SNGYEEAYSVFKKEAELDVNEELDK\n",
      "KEAELDVNEELDKK\n",
      "EAELDVNEELDKKYAGLLEK\n",
      "KYAGLLEKK\n",
      "YAGLLEKKWTSVIR\n",
      "KWTSVIRLQK\n",
      "WTSVIRLQKK\n",
      "LQKKVMELESK\n",
      "KVMELESKLNEAK\n",
      "VMELESKLNEAKEEFTSGGPLGQK\n",
      "LNEAKEEFTSGGPLGQKR\n",
      "EEFTSGGPLGQKRDPK\n",
      "RDPKEWIPRPPEK\n",
      "DPKEWIPRPPEKYALSGHR\n",
      "EWIPRPPEKYALSGHRSPVTR\n",
      "YALSGHRSPVTRVIFHPVFSVMVSASEDATIK\n",
      "SPVTRVIFHPVFSVMVSASEDATIKVWDYETGDFER\n",
      "VIFHPVFSVMVSASEDATIKVWDYETGDFERTLK\n",
      "VWDYETGDFERTLKGHTDSVQDISFDHSGK\n",
      "TLKGHTDSVQDISFDHSGKLLASCSADMTIK\n",
      "GHTDSVQDISFDHSGKLLASCSADMTIKLWDFQGFECIR\n",
      "LWDFQGFECIRTMHGHDHNVSSVAIMPNGDHIVSASRDK\n",
      "TMHGHDHNVSSVAIMPNGDHIVSASRDKTIK\n",
      "DKTIKMWEVQTGYCVK\n",
      "TIKMWEVQTGYCVKTFTGHR\n",
      "MWEVQTGYCVKTFTGHREWVR\n",
      "TFTGHREWVRMVRPNQDGTLIASCSNDQTVR\n",
      "EWVRMVRPNQDGTLIASCSNDQTVRVWVVATK\n",
      "MVRPNQDGTLIASCSNDQTVRVWVVATKECK\n",
      "VWVVATKECKAELR\n",
      "ECKAELREHEHVVECISWAPESSYSSISEATGSETK\n",
      "AELREHEHVVECISWAPESSYSSISEATGSETKK\n",
      "KSGKPGPFLLSGSRDK\n",
      "SGKPGPFLLSGSRDKTIK\n",
      "DKTIKMWDVSTGMCLMTLVGHDNWVR\n",
      "TIKMWDVSTGMCLMTLVGHDNWVRGVLFHSGGK\n",
      "MWDVSTGMCLMTLVGHDNWVRGVLFHSGGKFILSCADDK\n",
      "GVLFHSGGKFILSCADDKTLR\n",
      "FILSCADDKTLRVWDYK\n",
      "TLRVWDYKNK\n",
      "VWDYKNKR\n",
      "RCMKTLNAHEHFVTSLDFHK\n",
      "CMKTLNAHEHFVTSLDFHKTAPYVVTGSVDQTVK\n",
      "TLNAHEHFVTSLDFHKTAPYVVTGSVDQTVKVWECR\n"
     ]
    }
   ],
   "source": [
    "dig.setMissedCleavages(2)\n",
    "dig.digest(bsa, result, 7, 40)\n",
    "for s in result:\n",
    "    print(s.toString())"
   ]
  },
  {
   "cell_type": "code",
   "execution_count": 10,
   "metadata": {},
   "outputs": [],
   "source": [
    "#YEAST protien sequence"
   ]
  },
  {
   "cell_type": "code",
   "execution_count": 11,
   "metadata": {},
   "outputs": [
    {
     "name": "stdout",
     "output_type": "stream",
     "text": [
      "LPDYHLK\n"
     ]
    },
    {
     "data": {
      "text/plain": [
       "31"
      ]
     },
     "execution_count": 11,
     "metadata": {},
     "output_type": "execute_result"
    }
   ],
   "source": [
    "from urllib.request import urlretrieve\n",
    "ah = \"https://www.uniprot.org/uniprot/Q00246.fasta\"\n",
    "urlretrieve (ah , \"YEAST.fasta\")\n",
    "dig = ProteaseDigestion()\n",
    "dig.getEnzymeName() # Trypsin\n",
    "bsa = \"\".join([l.strip() for l in open(\"YEAST.fasta\").readlines()[1:]])\n",
    "bsa = AASequence.fromString(bsa)\n",
    "result = []\n",
    "dig.digest(bsa, result)\n",
    "print(result[9].toString())\n",
    "len(result) "
   ]
  },
  {
   "cell_type": "code",
   "execution_count": 12,
   "metadata": {},
   "outputs": [
    {
     "name": "stdout",
     "output_type": "stream",
     "text": [
      "MNTLLFK\n",
      "GGNCGNESNIVSQGSPSSSNLPESPGTLDEK\n",
      "LPTPFAR\n",
      "SLSTIPSYEQMK\n",
      "LPDYHLK\n",
      "IVVVGDGAVGK\n",
      "LRPLSYTNADVLMVCYSVGSK\n",
      "NVEDLWFPEVK\n",
      "HFCPSTPIMLVGLK\n",
      "SDLYEADNLSDLVEPSSAESLAK\n",
      "LGAFAHIQCSAR\n",
      "ENIDEVFETAIHTLLSDSLYAPR\n",
      "EPTHTIK\n",
      "SDIDSSTGDTSVSISGTK\n"
     ]
    }
   ],
   "source": [
    "dig.digest(bsa, result, 7, 40)\n",
    "for s in result:\n",
    "    print(s.toString())"
   ]
  },
  {
   "cell_type": "code",
   "execution_count": 13,
   "metadata": {},
   "outputs": [
    {
     "name": "stdout",
     "output_type": "stream",
     "text": [
      "MNTLLFK\n",
      "GGNCGNESNIVSQGSPSSSNLPESPGTLDEK\n",
      "LPTPFAR\n",
      "SLSTIPSYEQMK\n",
      "LPDYHLK\n",
      "IVVVGDGAVGK\n",
      "LRPLSYTNADVLMVCYSVGSK\n",
      "NVEDLWFPEVK\n",
      "HFCPSTPIMLVGLK\n",
      "SDLYEADNLSDLVEPSSAESLAK\n",
      "LGAFAHIQCSAR\n",
      "ENIDEVFETAIHTLLSDSLYAPR\n",
      "EPTHTIK\n",
      "SDIDSSTGDTSVSISGTK\n",
      "MNTLLFKR\n",
      "KGGNCGNESNIVSQGSPSSSNLPESPGTLDEK\n",
      "GGNCGNESNIVSQGSPSSSNLPESPGTLDEKNLPR\n",
      "NLPRLPTPFAR\n",
      "LPTPFARSLSTIPSYEQMK\n",
      "SLSTIPSYEQMKR\n",
      "TNKLPDYHLK\n",
      "LPDYHLKIVVVGDGAVGK\n",
      "LRPLSYTNADVLMVCYSVGSKTSLK\n",
      "TSLKNVEDLWFPEVK\n",
      "NVEDLWFPEVKHFCPSTPIMLVGLK\n",
      "HFCPSTPIMLVGLKSDLYEADNLSDLVEPSSAESLAK\n",
      "SDLYEADNLSDLVEPSSAESLAKR\n",
      "RLGAFAHIQCSAR\n",
      "LGAFAHIQCSARLK\n",
      "LKENIDEVFETAIHTLLSDSLYAPR\n",
      "ENIDEVFETAIHTLLSDSLYAPREPTHTIK\n",
      "EPTHTIKNPFK\n",
      "NTTRSDIDSSTGDTSVSISGTK\n",
      "SDIDSSTGDTSVSISGTKR\n",
      "MNTLLFKRK\n",
      "RKGGNCGNESNIVSQGSPSSSNLPESPGTLDEK\n",
      "KGGNCGNESNIVSQGSPSSSNLPESPGTLDEKNLPR\n",
      "NLPRLPTPFARSLSTIPSYEQMK\n",
      "LPTPFARSLSTIPSYEQMKR\n",
      "SLSTIPSYEQMKRTNK\n",
      "RTNKLPDYHLK\n",
      "TNKLPDYHLKIVVVGDGAVGK\n",
      "LRPLSYTNADVLMVCYSVGSKTSLKNVEDLWFPEVK\n",
      "TSLKNVEDLWFPEVKHFCPSTPIMLVGLK\n",
      "HFCPSTPIMLVGLKSDLYEADNLSDLVEPSSAESLAKR\n",
      "SDLYEADNLSDLVEPSSAESLAKRLGAFAHIQCSAR\n",
      "RLGAFAHIQCSARLK\n",
      "LGAFAHIQCSARLKENIDEVFETAIHTLLSDSLYAPR\n",
      "LKENIDEVFETAIHTLLSDSLYAPREPTHTIK\n",
      "ENIDEVFETAIHTLLSDSLYAPREPTHTIKNPFK\n",
      "EPTHTIKNPFKR\n",
      "NPFKRNTTR\n",
      "RNTTRSDIDSSTGDTSVSISGTK\n",
      "NTTRSDIDSSTGDTSVSISGTKR\n",
      "SDIDSSTGDTSVSISGTKRLR\n",
      "KNKCIIM\n"
     ]
    }
   ],
   "source": [
    "dig.setMissedCleavages(2)\n",
    "dig.digest(bsa, result, 7, 40)\n",
    "for s in result:\n",
    "    print(s.toString())"
   ]
  },
  {
   "cell_type": "code",
   "execution_count": 14,
   "metadata": {},
   "outputs": [],
   "source": [
    "#Proteolytic Digestion with Lys-C"
   ]
  },
  {
   "cell_type": "code",
   "execution_count": 15,
   "metadata": {},
   "outputs": [
    {
     "name": "stdout",
     "output_type": "stream",
     "text": [
      "[b'Chymotrypsin/P', b'CNBr', b'Lys-C', b'Trypsin', b'Arg-C', b'Chymotrypsin', b'Formic_acid', b'Lys-N', b'PepsinA', b'Trypsin/P', b'Lys-C/P', b'Asp-N/B', b'Asp-N_ambic', b'Arg-C/P', b'TrypChymo', b'Asp-N', b'glutamyl endopeptidase', b'V8-DE', b'leukocyte elastase', b'iodosobenzoate', b'cyanogen-bromide', b'proline endopeptidase', b'V8-E', b'PepsinA + P', b'Glu-C+P', b'Clostripain/P', b'Alpha-lytic protease', b'2-iodobenzoate', b'elastase-trypsin-chymotrypsin', b'no cleavage', b'unspecific cleavage', b'proline-endopeptidase/HKR', b'staphylococcal protease/D']\n"
     ]
    },
    {
     "data": {
      "text/plain": [
       "'(?<=[KX])(?!P)'"
      ]
     },
     "execution_count": 15,
     "metadata": {},
     "output_type": "execute_result"
    }
   ],
   "source": [
    "names = []\n",
    "ProteaseDB().getAllNames(names)\n",
    "len(names) \n",
    "print(names)\n",
    "\n",
    "e = ProteaseDB().getEnzyme('Lys-C')\n",
    "e.getRegExDescription()\n",
    "e.getRegEx()"
   ]
  },
  {
   "cell_type": "code",
   "execution_count": 16,
   "metadata": {},
   "outputs": [
    {
     "name": "stdout",
     "output_type": "stream",
     "text": [
      "YAGLLEK\n"
     ]
    },
    {
     "data": {
      "text/plain": [
       "34"
      ]
     },
     "execution_count": 16,
     "metadata": {},
     "output_type": "execute_result"
    }
   ],
   "source": [
    "from urllib.request import urlretrieve\n",
    "ah = \"https://www.uniprot.org/uniprot/P43034.fasta\"\n",
    "urlretrieve (ah , \"human.fasta\")\n",
    "\n",
    "dig = ProteaseDigestion()\n",
    "dig.setEnzyme('Lys-C')\n",
    "bsa = \"\".join([l.strip() for l in open(\"human.fasta\").readlines()[1:]])\n",
    "bsa = AASequence.fromString(bsa)\n",
    "result = []\n",
    "dig.digest(bsa, result)\n",
    "print(result[4].toString())\n",
    "len(result) "
   ]
  },
  {
   "cell_type": "code",
   "execution_count": 18,
   "metadata": {},
   "outputs": [
    {
     "name": "stdout",
     "output_type": "stream",
     "text": [
      "RTNK\n"
     ]
    },
    {
     "data": {
      "text/plain": [
       "19"
      ]
     },
     "execution_count": 18,
     "metadata": {},
     "output_type": "execute_result"
    }
   ],
   "source": [
    "ah = \"https://www.uniprot.org/uniprot/Q00246.fasta\"\n",
    "urlretrieve (ah , \"YEAST.fasta\")\n",
    "dig = ProteaseDigestion()\n",
    "dig.setEnzyme('Lys-C')\n",
    "bsa = \"\".join([l.strip() for l in open(\"YEAST.fasta\").readlines()[1:]])\n",
    "bsa = AASequence.fromString(bsa)\n",
    "result = []\n",
    "dig.digest(bsa, result)\n",
    "print(result[4].toString())\n",
    "len(result) "
   ]
  },
  {
   "cell_type": "code",
   "execution_count": null,
   "metadata": {},
   "outputs": [],
   "source": []
  }
 ],
 "metadata": {
  "kernelspec": {
   "display_name": "Python 3",
   "language": "python",
   "name": "python3"
  },
  "language_info": {
   "codemirror_mode": {
    "name": "ipython",
    "version": 3
   },
   "file_extension": ".py",
   "mimetype": "text/x-python",
   "name": "python",
   "nbconvert_exporter": "python",
   "pygments_lexer": "ipython3",
   "version": "3.8.5"
  }
 },
 "nbformat": 4,
 "nbformat_minor": 4
}
